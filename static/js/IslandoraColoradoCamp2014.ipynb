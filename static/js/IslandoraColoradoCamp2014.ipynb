{
 "metadata": {
  "name": "",
  "signature": "sha256:999beaa9b864efdf838c85368dd0bbe53318da686e108ce099db0eb3f79d40e7"
 },
 "nbformat": 3,
 "nbformat_minor": 0,
 "worksheets": [
  {
   "cells": [
    {
     "cell_type": "markdown",
     "metadata": {},
     "source": [
      "# Islandora Colorado Camp IPython Notebook\n",
      "by Jeremy Nelson"
     ]
    },
    {
     "cell_type": "code",
     "collapsed": false,
     "input": [
      "import pymarc\n",
      "import random\n",
      "import rdflib\n",
      "from flask_fedora_commons import Repository\n",
      "import sys\n",
      "sys.path.append('/Users/jeremynelson/2014/semantic-server/')\n",
      "from ingesters.marc2ds import MARC21toBIBFRAMEIngester\n",
      "repo = Repository()\n",
      "repo.setup()\n",
      "most_popular = pymarc.MARCReader(open('/Users/jeremynelson/2014/islandora-camp-colorado/more-10-checkouts.out', 'rb'), \n",
      "                                 to_unicode=True)\n",
      "recs = [rec for rec in most_popular]\n",
      "len(recs)"
     ],
     "language": "python",
     "metadata": {},
     "outputs": [
      {
       "output_type": "stream",
       "stream": "stderr",
       "text": [
        "couldn't find 0xbb in g0=66 g1=69\n",
        "couldn't find 0xbb in g0=66 g1=69\n",
        "couldn't find 0xbb in g0=66 g1=69\n",
        "couldn't find 0xbb in g0=66 g1=69\n",
        "couldn't find 0xbb in g0=66 g1=69\n",
        "couldn't find 0xbb in g0=66 g1=69\n",
        "couldn't find 0xbb in g0=66 g1=69\n",
        "couldn't find 0xbb in g0=66 g1=69\n",
        "couldn't find 0xbb in g0=66 g1=69\n",
        "couldn't find 0xbb in g0=66 g1=69\n",
        "couldn't find 0xbb in g0=66 g1=69\n",
        "couldn't find 0xbb in g0=66 g1=69\n",
        "couldn't find 0xbb in g0=66 g1=69\n"
       ]
      },
      {
       "output_type": "stream",
       "stream": "stderr",
       "text": [
        "couldn't find 0x20 in g0=78 g1=69\n",
        "couldn't find 0x20 in g0=78 g1=69\n",
        "couldn't find 0xc7 in g0=66 g1=69\n"
       ]
      },
      {
       "metadata": {},
       "output_type": "pyout",
       "prompt_number": 1,
       "text": [
        "17214"
       ]
      }
     ],
     "prompt_number": 1
    },
    {
     "cell_type": "code",
     "collapsed": false,
     "input": [
      "random_number = random.randint(0, len(recs))\n",
      "print(random_number)\n",
      "marc_record = recs[random_number]\n",
      "ingester = MARC21toBIBFRAMEIngester(fedora=repo)\n",
      "print(marc_record)\n",
      "bf_graph = ingester.__xquery_chain__(pymarc.record_to_xml(marc_record, namespace=True))\n",
      "set([s for s in bf_graph.subjects()])"
     ],
     "language": "python",
     "metadata": {},
     "outputs": [
      {
       "output_type": "stream",
       "stream": "stdout",
       "text": [
        "238\n",
        "=LDR  00843nam  2200253   4500\n",
        "=001  1028729\n",
        "=008  \\\\\\\\\\\\\\\\\\\\\\\\\\\\\\\\\\\\\\\\\\\\\\\\\\\\\\\\\\\\\\\\\\\\\\eng\\\\\n",
        "=010  \\\\$a55-5514//r83\n",
        "=035  \\\\$a.b10064138$btbp$c-\n",
        "=035  \\\\$a(CoCC)108079\n",
        "=040  \\\\$aDLC/ICU$cCGU$dm.c\n",
        "=041  0\\$aengspa\n",
        "=090  \\\\$aPC4640.W55\n",
        "=100  1\\$aWilliams, Edwin B.$q(Edwin Bucher),$d1891-1975.\n",
        "=245  10$aHolt Spanish and English dictionary.$bDiccionario ingles y espa\u00f1ol.\n",
        "=260  \\\\$aNew York,$bHolt$c[c1955]\n",
        "=300  \\\\$ax, 621, xli, 605 p.$c22 cm.\n",
        "=650  \\0$aSpanish language$vDictionaries$xEnglish.\n",
        "=650  \\0$aEnglish language$vDictionaries$xSpanish.\n",
        "=907  \\\\$a.b10064138\n",
        "=902  \\\\$a140106\n",
        "=999  \\\\$b1$c940803$dm$ea$f-$g0\n",
        "=994  \\\\$atbp\n",
        "=945  \\\\$aPC4640.W55$g1$i33027003772476$j0$ltbp  $h0$o-$p$0.00$r-$s-$t1$u16$v5$w0$x0$y.i1007577x$z940804\n",
        "\n"
       ]
      },
      {
       "metadata": {},
       "output_type": "pyout",
       "prompt_number": 3,
       "text": [
        "{rdflib.term.BNode('N12f23d8e515e4ba09140c7abb14f4a76'),\n",
        " rdflib.term.BNode('N475efb3eff884520a43fc2a2f3642b1c'),\n",
        " rdflib.term.BNode('N9c017e721e0f441fa0c9f4a735cfa838'),\n",
        " rdflib.term.BNode('Na88608e281f24cfa92ac2eb8dde35a59'),\n",
        " rdflib.term.BNode('Naf5e7333ed8c4d02bd1b3f8e7e602fa3'),\n",
        " rdflib.term.BNode('Nc6b6415e22984efa8ef19723b13bb96e'),\n",
        " rdflib.term.URIRef('http://catalog/1028729'),\n",
        " rdflib.term.URIRef('http://catalog/1028729annotation14'),\n",
        " rdflib.term.URIRef('http://catalog/1028729identifier17'),\n",
        " rdflib.term.URIRef('http://catalog/1028729identifier26'),\n",
        " rdflib.term.URIRef('http://catalog/1028729identifier27'),\n",
        " rdflib.term.URIRef('http://catalog/1028729identifier28'),\n",
        " rdflib.term.URIRef('http://catalog/1028729instance15'),\n",
        " rdflib.term.URIRef('http://catalog/1028729person7'),\n",
        " rdflib.term.URIRef('http://catalog/1028729title19'),\n",
        " rdflib.term.URIRef('http://catalog/1028729title6'),\n",
        " rdflib.term.URIRef('http://catalog/1028729topic10'),\n",
        " rdflib.term.URIRef('http://catalog/1028729topic11')}"
       ]
      }
     ],
     "prompt_number": 3
    },
    {
     "cell_type": "code",
     "collapsed": false,
     "input": [
      "\n",
      "print(bf_graph.serialize().decode())\n",
      "\n"
     ],
     "language": "python",
     "metadata": {},
     "outputs": [
      {
       "output_type": "stream",
       "stream": "stdout",
       "text": [
        "<?xml version=\"1.0\" encoding=\"UTF-8\"?>\n",
        "<rdf:RDF\n",
        "   xmlns:bf=\"http://bibframe.org/vocab/\"\n",
        "   xmlns:madsrdf=\"http://www.loc.gov/mads/rdf/v1#\"\n",
        "   xmlns:rdf=\"http://www.w3.org/1999/02/22-rdf-syntax-ns#\"\n",
        ">\n",
        "  <rdf:Description rdf:about=\"http://catalog/1028729person7\">\n",
        "    <bf:label>Williams, Edwin B. (Edwin Bucher), 1891-1975.</bf:label>\n",
        "    <rdf:type rdf:resource=\"http://bibframe.org/vocab/Person\"/>\n",
        "    <bf:hasAuthority rdf:nodeID=\"N475efb3eff884520a43fc2a2f3642b1c\"/>\n",
        "    <bf:authorizedAccessPoint>Williams, Edwin B. (Edwin Bucher), 1891-1975.</bf:authorizedAccessPoint>\n",
        "  </rdf:Description>\n",
        "  <rdf:Description rdf:about=\"http://catalog/1028729topic11\">\n",
        "    <bf:authorizedAccessPoint>English language--Dictionaries--Spanish</bf:authorizedAccessPoint>\n",
        "    <bf:hasAuthority rdf:nodeID=\"Na88608e281f24cfa92ac2eb8dde35a59\"/>\n",
        "    <bf:label>English language--Dictionaries--Spanish</bf:label>\n",
        "    <rdf:type rdf:resource=\"http://bibframe.org/vocab/Topic\"/>\n",
        "  </rdf:Description>\n",
        "  <rdf:Description rdf:about=\"http://catalog/1028729instance15\">\n",
        "    <bf:titleStatement>Holt Spanish and English dictionary. Diccionario ingles y espaol.</bf:titleStatement>\n",
        "    <bf:extent>x, 621, xli, 605 p.</bf:extent>\n",
        "    <bf:instanceTitle rdf:resource=\"http://catalog/1028729title19\"/>\n",
        "    <bf:title>Holt Spanish and English dictionary. Diccionario ingles y espaol</bf:title>\n",
        "    <bf:modeOfIssuance>monographic</bf:modeOfIssuance>\n",
        "    <rdf:type rdf:resource=\"http://bibframe.org/vocab/Monograph\"/>\n",
        "    <bf:providerStatement>New York, Holt c1955</bf:providerStatement>\n",
        "    <bf:derivedFrom rdf:resource=\"http://catalog/1028729.marcxml.xml\"/>\n",
        "    <bf:systemNumber rdf:resource=\"http://catalog/1028729identifier27\"/>\n",
        "    <bf:instanceOf rdf:resource=\"http://catalog/1028729\"/>\n",
        "    <bf:systemNumber rdf:resource=\"http://catalog/1028729identifier28\"/>\n",
        "    <rdf:type rdf:resource=\"http://bibframe.org/vocab/Instance\"/>\n",
        "    <bf:dimensions>22 cm.</bf:dimensions>\n",
        "    <bf:publication rdf:nodeID=\"Nc6b6415e22984efa8ef19723b13bb96e\"/>\n",
        "    <bf:lccn rdf:resource=\"http://catalog/1028729identifier26\"/>\n",
        "  </rdf:Description>\n",
        "  <rdf:Description rdf:about=\"http://catalog/1028729annotation14\">\n",
        "    <bf:descriptionConventions rdf:resource=\"http://id.loc.gov/vocabulary/descriptionConventions/nonisbd\"/>\n",
        "    <rdf:type rdf:resource=\"http://bibframe.org/vocab/Annotation\"/>\n",
        "    <bf:annotates rdf:resource=\"http://catalog/1028729\"/>\n",
        "    <bf:derivedFrom rdf:resource=\"http://catalog/1028729.marcxml.xml\"/>\n",
        "    <bf:descriptionSource rdf:resource=\"http://catalog/1028729identifier17\"/>\n",
        "    <bf:generationProcess>DLC transform-tool:2014-07-01-T17:00:00</bf:generationProcess>\n",
        "  </rdf:Description>\n",
        "  <rdf:Description rdf:about=\"http://catalog/1028729identifier28\">\n",
        "    <rdf:type rdf:resource=\"http://bibframe.org/vocab/Identifier\"/>\n",
        "    <bf:identifierValue>(CoCC)108079</bf:identifierValue>\n",
        "    <bf:identifierScheme>systemNumber</bf:identifierScheme>\n",
        "  </rdf:Description>\n",
        "  <rdf:Description rdf:nodeID=\"Na88608e281f24cfa92ac2eb8dde35a59\">\n",
        "    <rdf:type rdf:resource=\"http://www.loc.gov/mads/rdf/v1#Authority\"/>\n",
        "    <rdf:type rdf:resource=\"http://www.loc.gov/mads/rdf/v1#ComplexSubject\"/>\n",
        "    <madsrdf:authoritativeLabel xml:lang=\"en\">English language--Dictionaries--Spanish</madsrdf:authoritativeLabel>\n",
        "  </rdf:Description>\n",
        "  <rdf:Description rdf:about=\"http://catalog/1028729identifier26\">\n",
        "    <bf:identifierValue>55-5514//r83</bf:identifierValue>\n",
        "    <bf:identifierScheme>lccn</bf:identifierScheme>\n",
        "    <rdf:type rdf:resource=\"http://bibframe.org/vocab/Identifier\"/>\n",
        "  </rdf:Description>\n",
        "  <rdf:Description rdf:nodeID=\"Naf5e7333ed8c4d02bd1b3f8e7e602fa3\">\n",
        "    <bf:label>Holt</bf:label>\n",
        "    <rdf:type rdf:resource=\"http://bibframe.org/vocab/Organization\"/>\n",
        "  </rdf:Description>\n",
        "  <rdf:Description rdf:about=\"http://catalog/1028729topic10\">\n",
        "    <bf:label>Spanish language--Dictionaries--English</bf:label>\n",
        "    <bf:authorizedAccessPoint>Spanish language--Dictionaries--English</bf:authorizedAccessPoint>\n",
        "    <rdf:type rdf:resource=\"http://bibframe.org/vocab/Topic\"/>\n",
        "    <bf:hasAuthority rdf:nodeID=\"N12f23d8e515e4ba09140c7abb14f4a76\"/>\n",
        "  </rdf:Description>\n",
        "  <rdf:Description rdf:nodeID=\"N12f23d8e515e4ba09140c7abb14f4a76\">\n",
        "    <rdf:type rdf:resource=\"http://www.loc.gov/mads/rdf/v1#Authority\"/>\n",
        "    <rdf:type rdf:resource=\"http://www.loc.gov/mads/rdf/v1#ComplexSubject\"/>\n",
        "    <madsrdf:authoritativeLabel xml:lang=\"en\">Spanish language--Dictionaries--English</madsrdf:authoritativeLabel>\n",
        "  </rdf:Description>\n",
        "  <rdf:Description rdf:about=\"http://catalog/1028729\">\n",
        "    <bf:subject rdf:resource=\"http://catalog/1028729topic11\"/>\n",
        "    <bf:subject rdf:resource=\"http://catalog/1028729topic10\"/>\n",
        "    <rdf:type rdf:resource=\"http://bibframe.org/vocab/Work\"/>\n",
        "    <bf:language rdf:resource=\"http://id.loc.gov/vocabulary/languages/spa\"/>\n",
        "    <rdf:type rdf:resource=\"http://bibframe.org/vocab/Text\"/>\n",
        "    <bf:workTitle rdf:resource=\"http://catalog/1028729title6\"/>\n",
        "    <bf:authorizedAccessPoint>Williams, Edwin B. (Edwin Bucher), 1891-1975. Holt Spanish and English dictionary. Diccionario ingles y espaol</bf:authorizedAccessPoint>\n",
        "    <bf:creator rdf:resource=\"http://catalog/1028729person7\"/>\n",
        "    <bf:language rdf:resource=\"http://id.loc.gov/vocabulary/languages/eng\"/>\n",
        "    <bf:title>Holt Spanish and English dictionary. Diccionario ingles y espaol</bf:title>\n",
        "    <bf:authorizedAccessPoint xml:lang=\"x-bf-hashable\">williamsedwinbedwinbucher18911975holtspanishandenglishdictionarydiccionarioinglesyespaolengworktext</bf:authorizedAccessPoint>\n",
        "    <bf:derivedFrom rdf:resource=\"http://catalog/1028729.marcxml.xml\"/>\n",
        "  </rdf:Description>\n",
        "  <rdf:Description rdf:about=\"http://catalog/1028729identifier27\">\n",
        "    <bf:identifierScheme>systemNumber</bf:identifierScheme>\n",
        "    <rdf:type rdf:resource=\"http://bibframe.org/vocab/Identifier\"/>\n",
        "    <bf:identifierAssigner>tbp</bf:identifierAssigner>\n",
        "    <bf:identifierValue>.b10064138</bf:identifierValue>\n",
        "  </rdf:Description>\n",
        "  <rdf:Description rdf:nodeID=\"N9c017e721e0f441fa0c9f4a735cfa838\">\n",
        "    <bf:label>New York</bf:label>\n",
        "    <rdf:type rdf:resource=\"http://bibframe.org/vocab/Place\"/>\n",
        "  </rdf:Description>\n",
        "  <rdf:Description rdf:nodeID=\"Nc6b6415e22984efa8ef19723b13bb96e\">\n",
        "    <bf:providerDate>[c1955]</bf:providerDate>\n",
        "    <bf:providerName rdf:nodeID=\"Naf5e7333ed8c4d02bd1b3f8e7e602fa3\"/>\n",
        "    <rdf:type rdf:resource=\"http://bibframe.org/vocab/Provider\"/>\n",
        "    <bf:providerPlace rdf:nodeID=\"N9c017e721e0f441fa0c9f4a735cfa838\"/>\n",
        "  </rdf:Description>\n",
        "  <rdf:Description rdf:about=\"http://catalog/1028729title19\">\n",
        "    <rdf:type rdf:resource=\"http://bibframe.org/vocab/Title\"/>\n",
        "    <bf:subtitle>Diccionario ingles y espaol.</bf:subtitle>\n",
        "    <bf:titleValue>Holt Spanish and English dictionary.</bf:titleValue>\n",
        "  </rdf:Description>\n",
        "  <rdf:Description rdf:about=\"http://catalog/1028729title6\">\n",
        "    <bf:titleValue>Holt Spanish and English dictionary.</bf:titleValue>\n",
        "    <rdf:type rdf:resource=\"http://bibframe.org/vocab/Title\"/>\n",
        "    <bf:subtitle>Diccionario ingles y espaol.</bf:subtitle>\n",
        "  </rdf:Description>\n",
        "  <rdf:Description rdf:nodeID=\"N475efb3eff884520a43fc2a2f3642b1c\">\n",
        "    <rdf:type rdf:resource=\"http://www.loc.gov/mads/rdf/v1#Authority\"/>\n",
        "    <madsrdf:authoritativeLabel>Williams, Edwin B. (Edwin Bucher), 1891-1975.</madsrdf:authoritativeLabel>\n",
        "  </rdf:Description>\n",
        "  <rdf:Description rdf:about=\"http://catalog/1028729identifier17\">\n",
        "    <bf:identifierValue>DLC/ICU</bf:identifierValue>\n",
        "    <rdf:type rdf:resource=\"http://bibframe.org/vocab/Identifier\"/>\n",
        "    <bf:identifierScheme>descriptionSource</bf:identifierScheme>\n",
        "  </rdf:Description>\n",
        "</rdf:RDF>\n",
        "\n"
       ]
      }
     ],
     "prompt_number": 5
    },
    {
     "cell_type": "code",
     "collapsed": false,
     "input": [
      "ingester.ingest(recs[420])"
     ],
     "language": "python",
     "metadata": {},
     "outputs": [],
     "prompt_number": 9
    },
    {
     "cell_type": "code",
     "collapsed": false,
     "input": [],
     "language": "python",
     "metadata": {},
     "outputs": []
    }
   ],
   "metadata": {}
  }
 ]
}