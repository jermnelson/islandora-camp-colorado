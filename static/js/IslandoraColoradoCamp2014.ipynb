{
 "metadata": {
  "name": "",
  "signature": "sha256:9d1b08d0fcffeb42cffa89b2e17f58443273c53c128ca5798763516f13cb1ec9"
 },
 "nbformat": 3,
 "nbformat_minor": 0,
 "worksheets": [
  {
   "cells": [
    {
     "cell_type": "code",
     "collapsed": false,
     "input": [
      "import pymarc\n",
      "import random\n",
      "import rdflib\n",
      "from flask_fedora_commons import Repository\n",
      "import sys\n",
      "sys.path.append('/Users/jeremynelson/2014/semantic-server/')\n",
      "from ingesters.marc2ds import MARC21toBIBFRAMEIngester\n",
      "repo = Repository()\n",
      "repo.setup()\n",
      "most_popular = pymarc.MARCReader(open('/Users/jeremynelson/2014/islandora-camp-colorado/more-10-checkouts.out', 'rb'), \n",
      "                                 to_unicode=True)\n",
      "recs = [rec for rec in most_popular]\n",
      "len(recs)"
     ],
     "language": "python",
     "metadata": {},
     "outputs": []
    },
    {
     "cell_type": "code",
     "collapsed": false,
     "input": [
      "random_number = random.randint(0, len(recs))\n",
      "print(random_number)\n",
      "marc_record = recs[random_number]\n",
      "print(marc_record)\n",
      "bf_graph = ingester.__xquery_chain__(pymarc.record_to_xml(marc_record, namespace=True))\n",
      "set([s for s in bf_graph.subjects()])"
     ],
     "language": "python",
     "metadata": {},
     "outputs": []
    },
    {
     "cell_type": "code",
     "collapsed": false,
     "input": [
      "\n",
      "M260__c = rdflib.URIRef('http://marc21rdf.info/elements/2XX/M260__c')\n",
      "set([s for s in bf_graph.subjects()])\n"
     ],
     "language": "python",
     "metadata": {},
     "outputs": []
    },
    {
     "cell_type": "code",
     "collapsed": false,
     "input": [
      "ingester.ingest(marc_record, 'bibframe')"
     ],
     "language": "python",
     "metadata": {},
     "outputs": []
    }
   ],
   "metadata": {}
  }
 ]
}